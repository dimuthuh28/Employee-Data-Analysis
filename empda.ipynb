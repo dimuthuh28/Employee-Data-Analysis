{
 "cells": [
  {
   "cell_type": "code",
   "execution_count": 1,
   "id": "008f4a94-ca2d-42df-8733-d57d0fd41df8",
   "metadata": {},
   "outputs": [
    {
     "name": "stdout",
     "output_type": "stream",
     "text": [
      "'data.frame':\t50 obs. of  10 variables:\n",
      " $ employee_id       : chr  \"E1001\" \"E1002\" \"E1003\" \"E1004\" ...\n",
      " $ gender            : chr  \"Male\" \"Male\" \"Female\" \"Male\" ...\n",
      " $ age               : int  35 38 36 31 25 33 40 35 25 34 ...\n",
      " $ job_position      : chr  \"Software Engineer\" \"Data Analyst\" \"System Administrator\" \"System Administrator\" ...\n",
      " $ salary            : num  190000 135000 115000 195000 165000 190000 180000 130000 145000 180000 ...\n",
      " $ department        : chr  \"Finance\" \"IT\" \"IT\" \"Finance\" ...\n",
      " $ bonus             : num  7000 19000 7000 13000 15000 20000 9000 15000 14000 8000 ...\n",
      " $ years_experience  : int  5 14 13 8 8 1 7 14 10 1 ...\n",
      " $ performance_rating: int  3 4 1 2 4 3 4 2 2 5 ...\n",
      " $ remote_work       : chr  \"Not Eligible\" \"Eligible\" \"Eligible\" \"Eligible\" ...\n"
     ]
    },
    {
     "data": {
      "text/plain": [
       " employee_id           gender               age       job_position      \n",
       " Length:50          Length:50          Min.   :25.0   Length:50         \n",
       " Class :character   Class :character   1st Qu.:27.0   Class :character  \n",
       " Mode  :character   Mode  :character   Median :32.5   Mode  :character  \n",
       "                                       Mean   :32.2                     \n",
       "                                       3rd Qu.:36.0                     \n",
       "                                       Max.   :40.0                     \n",
       "     salary        department            bonus       years_experience\n",
       " Min.   :100000   Length:50          Min.   : 5000   Min.   : 1.00   \n",
       " 1st Qu.:130000   Class :character   1st Qu.: 9000   1st Qu.: 6.25   \n",
       " Median :160000   Mode  :character   Median :14000   Median :10.00   \n",
       " Mean   :154900                      Mean   :12980   Mean   : 8.82   \n",
       " 3rd Qu.:180000                      3rd Qu.:16750   3rd Qu.:12.00   \n",
       " Max.   :200000                      Max.   :20000   Max.   :15.00   \n",
       " performance_rating remote_work       \n",
       " Min.   :1.0        Length:50         \n",
       " 1st Qu.:2.0        Class :character  \n",
       " Median :4.0        Mode  :character  \n",
       " Mean   :3.4                          \n",
       " 3rd Qu.:5.0                          \n",
       " Max.   :5.0                          "
      ]
     },
     "metadata": {},
     "output_type": "display_data"
    },
    {
     "name": "stderr",
     "output_type": "stream",
     "text": [
      "Warning message:\n",
      "\"package 'dplyr' was built under R version 4.4.3\"\n",
      "\n",
      "Attaching package: 'dplyr'\n",
      "\n",
      "\n",
      "The following objects are masked from 'package:stats':\n",
      "\n",
      "    filter, lag\n",
      "\n",
      "\n",
      "The following objects are masked from 'package:base':\n",
      "\n",
      "    intersect, setdiff, setequal, union\n",
      "\n",
      "\n"
     ]
    },
    {
     "data": {
      "text/plain": [
       "\n",
       "Female   Male \n",
       "  0.24   0.76 "
      ]
     },
     "metadata": {},
     "output_type": "display_data"
    },
    {
     "data": {
      "image/png": "[encoded data removed]",
      "text/plain": [
       "Plot with title \"Employee Age Distribution\""
      ]
     },
     "metadata": {
      "image/png": {
       "height": 420,
       "width": 420
      }
     },
     "output_type": "display_data"
    },
    {
     "data": {
      "image/png": "[encoded data removed]",
      "text/plain": [
       "Plot with title \"Salary by Job Position\""
      ]
     },
     "metadata": {
      "image/png": {
       "height": 420,
       "width": 420
      }
     },
     "output_type": "display_data"
    },
    {
     "data": {
      "text/html": [
       "<dl>\n",
       "\t<dt>$num_employees</dt>\n",
       "\t\t<dd>9</dd>\n",
       "\t<dt>$avg_salary</dt>\n",
       "\t\t<dd>167777.777777778</dd>\n",
       "\t<dt>$avg_rating</dt>\n",
       "\t\t<dd>3.22222222222222</dd>\n",
       "</dl>\n"
      ],
      "text/latex": [
       "\\begin{description}\n",
       "\\item[\\$num\\_employees] 9\n",
       "\\item[\\$avg\\_salary] 167777.777777778\n",
       "\\item[\\$avg\\_rating] 3.22222222222222\n",
       "\\end{description}\n"
      ],
      "text/markdown": [
       "$num_employees\n",
       ":   9\n",
       "$avg_salary\n",
       ":   167777.777777778\n",
       "$avg_rating\n",
       ":   3.22222222222222\n",
       "\n",
       "\n"
      ],
      "text/plain": [
       "$num_employees\n",
       "[1] 9\n",
       "\n",
       "$avg_salary\n",
       "[1] 167777.8\n",
       "\n",
       "$avg_rating\n",
       "[1] 3.222222\n"
      ]
     },
     "metadata": {},
     "output_type": "display_data"
    },
    {
     "data": {
      "text/html": [
       "-0.331316473452767"
      ],
      "text/latex": [
       "-0.331316473452767"
      ],
      "text/markdown": [
       "-0.331316473452767"
      ],
      "text/plain": [
       "[1] -0.3313165"
      ]
     },
     "metadata": {},
     "output_type": "display_data"
    },
    {
     "data": {
      "text/plain": [
       "\n",
       "Call:\n",
       "lm(formula = salary ~ years_experience, data = employees)\n",
       "\n",
       "Residuals:\n",
       "   Min     1Q Median     3Q    Max \n",
       "-54466 -18819   4419  20534  45534 \n",
       "\n",
       "Coefficients:\n",
       "                 Estimate Std. Error t value Pr(>|t|)    \n",
       "(Intercept)      176157.4     9601.9  18.346   <2e-16 ***\n",
       "years_experience  -2410.1      990.7  -2.433   0.0188 *  \n",
       "---\n",
       "Signif. codes:  0 '***' 0.001 '**' 0.01 '*' 0.05 '.' 0.1 ' ' 1\n",
       "\n",
       "Residual standard error: 28150 on 48 degrees of freedom\n",
       "Multiple R-squared:  0.1098,\tAdjusted R-squared:  0.09122 \n",
       "F-statistic: 5.919 on 1 and 48 DF,  p-value: 0.01876\n"
      ]
     },
     "metadata": {},
     "output_type": "display_data"
    },
    {
     "data": {
      "image/png": "[encoded data removed]",
      "text/plain": [
       "Plot with title \"Years of Experience vs Salary\""
      ]
     },
     "metadata": {
      "image/png": {
       "height": 420,
       "width": 420
      }
     },
     "output_type": "display_data"
    }
   ],
   "source": [
    "set.seed(22001672)  \n",
    "\n",
    "employee_id <- paste0(\"E\", 1001:1050)\n",
    "\n",
    "gender <- sample(c(\"Male\", \"Female\"), 50, replace = TRUE, prob = c(0.75, 0.25))\n",
    "\n",
    "age <- sample(25:40, 50, replace = TRUE)\n",
    "\n",
    "job_position <- sample(c(\"Software Engineer\", \"Data Analyst\", \"System Administrator\", \"Project Manager\"), 50, replace = TRUE)\n",
    "\n",
    "salary <- sample(seq(100000, 200000, by = 5000), 50, replace = TRUE)\n",
    "\n",
    "department <- sample(c(\"IT\", \"Finance\", \"HR\", \"Marketing\"), 50, replace = TRUE)\n",
    "\n",
    "bonus <- sample(seq(5000, 20000, by = 1000), 50, replace = TRUE)\n",
    "\n",
    "years_experience <- sample(1:15, 50, replace = TRUE)\n",
    "\n",
    "performance_rating <- sample(1:5, 50, replace = TRUE)\n",
    "\n",
    "remote_work <- sample(c(\"Eligible\", \"Not Eligible\"), 50, replace = TRUE, prob = c(0.6, 0.4))\n",
    "\n",
    "employees <- data.frame(employee_id, gender, age, job_position, salary, department, bonus, years_experience, performance_rating, remote_work)\n",
    "\n",
    "str(employees)\n",
    "\n",
    "summary(employees)\n",
    "\n",
    "employees$total_compensation <- employees$salary + employees$bonus\n",
    "\n",
    "employees$employee_id <- as.factor(employees$employee_id)\n",
    "\n",
    "it_remote <- subset(employees, department == \"IT\" & remote_work == \"Eligible\")\n",
    "\n",
    "high_performance <- subset(employees, performance_rating >= 4)\n",
    "\n",
    "library(dplyr)\n",
    "avg_salary_by_dept <- employees %>%\n",
    "    group_by(department) %>%\n",
    "    summarise(avg_salary = mean(salary))\n",
    "\n",
    "table(employees$gender) / nrow(employees)\n",
    "\n",
    "hist(employees$age, main=\"Employee Age Distribution\", xlab=\"Age\", col=\"blue\", border=\"black\")\n",
    "\n",
    "boxplot(salary ~ job_position, data=employees, main=\"Salary by Job Position\", xlab=\"Job Position\", ylab=\"Salary\", col=\"lightblue\", las=2)\n",
    "\n",
    "plot(employees$years_experience, employees$salary, main=\"Years of Experience vs Salary\",\n",
    "     xlab=\"Years of Experience\", ylab=\"Salary\", pch=16, col=\"blue\")\n",
    "abline(lm(salary ~ years_experience, data=employees), col=\"red\")\n",
    "\n",
    "avg_bonus_rating <- employees %>%\n",
    "    group_by(job_position) %>%\n",
    "    summarise(avg_bonus = mean(bonus), avg_rating = mean(performance_rating))\n",
    "\n",
    "avg_experience_gender <- employees %>%\n",
    "    group_by(gender) %>%\n",
    "    summarise(avg_experience = mean(years_experience))\n",
    "\n",
    "finance_salaries <- employees$salary[employees$department == \"Finance\"]\n",
    "finance_ci <- t.test(finance_salaries, conf.level = 0.95)$conf.int\n",
    "\n",
    "department_stats <- function(dept) {\n",
    "    dept_data <- subset(employees, department == dept)\n",
    "    list(\n",
    "        num_employees = nrow(dept_data),\n",
    "        avg_salary = mean(dept_data$salary),\n",
    "        avg_rating = mean(dept_data$performance_rating)\n",
    "    )\n",
    "}\n",
    "\n",
    "department_stats(\"HR\")\n",
    "\n",
    "cor(employees$years_experience, employees$salary)\n",
    "\n",
    "salary_model <- lm(salary ~ years_experience, data=employees)\n",
    "summary(salary_model)\n",
    "\n",
    "write.csv(employees, \"22001672.csv\", row.names=FALSE)\n"
   ]
  },
  {
   "cell_type": "code",
   "execution_count": null,
   "id": "b3f88a6b-36bb-4dc7-b462-807f225365f1",
   "metadata": {},
   "outputs": [],
   "source": []
  }
 ],
 "metadata": {
  "kernelspec": {
   "display_name": "R",
   "language": "R",
   "name": "ir"
  },
  "language_info": {
   "codemirror_mode": "r",
   "file_extension": ".r",
   "mimetype": "text/x-r-source",
   "name": "R",
   "pygments_lexer": "r",
   "version": "4.4.2"
  }
 },
 "nbformat": 4,
 "nbformat_minor": 5
}
